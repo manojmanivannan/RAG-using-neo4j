{
 "cells": [
  {
   "cell_type": "code",
   "execution_count": 1,
   "metadata": {},
   "outputs": [],
   "source": [
    "from dotenv import load_dotenv\n",
    "import os\n",
    "import textwrap\n",
    "\n",
    "# Langchain\n",
    "from langchain_community.graphs import Neo4jGraph\n",
    "from langchain_community.vectorstores import Neo4jVector\n",
    "from langchain_openai import OpenAIEmbeddings\n",
    "from langchain.text_splitter import RecursiveCharacterTextSplitter\n",
    "from langchain.chains import RetrievalQAWithSourcesChain\n",
    "from langchain_openai import ChatOpenAI\n",
    "\n",
    "# Warning control\n",
    "import warnings\n",
    "warnings.filterwarnings(\"ignore\")"
   ]
  },
  {
   "cell_type": "code",
   "execution_count": 2,
   "metadata": {},
   "outputs": [],
   "source": [
    "# Load from environment\n",
    "load_dotenv('.env', override=True)\n",
    "NEO4J_URI = os.getenv('NEO4J_URI')\n",
    "NEO4J_USERNAME = os.getenv('NEO4J_USERNAME')\n",
    "NEO4J_PASSWORD = os.getenv('NEO4J_PASSWORD')\n",
    "NEO4J_DATABASE = os.getenv('NEO4J_DATABASE') or 'neo4j'\n",
    "\n",
    "# Global constants\n",
    "VECTOR_INDEX_NAME = 'form_10k_chunks'\n",
    "VECTOR_NODE_LABEL = 'Chunk'\n",
    "VECTOR_SOURCE_PROPERTY = 'text'\n",
    "VECTOR_EMBEDDING_PROPERTY = 'textEmbedding'"
   ]
  },
  {
   "cell_type": "code",
   "execution_count": 3,
   "metadata": {},
   "outputs": [],
   "source": [
    "kg = Neo4jGraph(\n",
    "    url=NEO4J_URI, \n",
    "    username=NEO4J_USERNAME, \n",
    "    password=NEO4J_PASSWORD, \n",
    "    database=NEO4J_DATABASE\n",
    ")"
   ]
  },
  {
   "cell_type": "markdown",
   "metadata": {},
   "source": [
    "Read the collection of Form 13s\n",
    "- Investment management firms must report on their investments in companies to the SEC by filing a document called Form 13\n",
    "- You'll load a collection of Form 13 for managers that have invested in NetApp\n",
    "- You can check out the CSV file by navigating to the data directory using the File menu at the top of the notebook"
   ]
  },
  {
   "cell_type": "code",
   "execution_count": 4,
   "metadata": {},
   "outputs": [],
   "source": [
    "import csv\n",
    "\n",
    "all_form13s = []\n",
    "\n",
    "with open('./data/form13.csv', mode='r') as csv_file:\n",
    "    csv_reader = csv.DictReader(csv_file)\n",
    "    for row in csv_reader: # each row will be a dictionary\n",
    "      all_form13s.append(row)"
   ]
  },
  {
   "cell_type": "code",
   "execution_count": 6,
   "metadata": {},
   "outputs": [
    {
     "data": {
      "text/plain": [
       "[{'source': 'https://sec.gov/Archives/edgar/data/1000275/0001140361-23-039575.txt',\n",
       "  'managerCik': '1000275',\n",
       "  'managerAddress': 'ROYAL BANK PLAZA, 200 BAY STREET, TORONTO, A6, M5J2J5',\n",
       "  'managerName': 'Royal Bank of Canada',\n",
       "  'reportCalendarOrQuarter': '2023-06-30',\n",
       "  'cusip6': '64110D',\n",
       "  'cusip': '64110D104',\n",
       "  'companyName': 'NETAPP INC',\n",
       "  'value': '64395000000.0',\n",
       "  'shares': '842850'},\n",
       " {'source': 'https://sec.gov/Archives/edgar/data/1002784/0001387131-23-009542.txt',\n",
       "  'managerCik': '1002784',\n",
       "  'managerAddress': '1875 Lawrence Street, Suite 300, Denver, CO, 80202-1805',\n",
       "  'managerName': 'SHELTON CAPITAL MANAGEMENT',\n",
       "  'reportCalendarOrQuarter': '2023-06-30',\n",
       "  'cusip6': '64110D',\n",
       "  'cusip': '64110D104',\n",
       "  'companyName': 'NETAPP INC',\n",
       "  'value': '2989085000.0',\n",
       "  'shares': '39124'},\n",
       " {'source': 'https://sec.gov/Archives/edgar/data/1007280/0001007280-23-000008.txt',\n",
       "  'managerCik': '1007280',\n",
       "  'managerAddress': '277 E TOWN ST, COLUMBUS, OH, 43215',\n",
       "  'managerName': 'PUBLIC EMPLOYEES RETIREMENT SYSTEM OF OHIO',\n",
       "  'reportCalendarOrQuarter': '2023-06-30',\n",
       "  'cusip6': '64110D',\n",
       "  'cusip': '64110D104',\n",
       "  'companyName': 'Netapp Inc',\n",
       "  'value': '8170000.0',\n",
       "  'shares': '106941'}]"
      ]
     },
     "execution_count": 6,
     "metadata": {},
     "output_type": "execute_result"
    }
   ],
   "source": [
    "all_form13s[:3]"
   ]
  },
  {
   "cell_type": "code",
   "execution_count": 7,
   "metadata": {},
   "outputs": [
    {
     "data": {
      "text/plain": [
       "561"
      ]
     },
     "execution_count": 7,
     "metadata": {},
     "output_type": "execute_result"
    }
   ],
   "source": [
    "len(all_form13s)"
   ]
  },
  {
   "cell_type": "markdown",
   "metadata": {},
   "source": [
    "Create company nodes in the graph\n",
    "- Use the companies identified in the Form 13s to create Company nodes\n",
    "- For now, there is only one company - NetApp"
   ]
  },
  {
   "cell_type": "code",
   "execution_count": 9,
   "metadata": {},
   "outputs": [
    {
     "data": {
      "text/plain": [
       "[]"
      ]
     },
     "execution_count": 9,
     "metadata": {},
     "output_type": "execute_result"
    }
   ],
   "source": [
    "# work with just the first form fow now\n",
    "first_form13 = all_form13s[0]\n",
    "\n",
    "cypher = \"\"\"\n",
    "MERGE (com:Company {cusip6: $cusip6})\n",
    "  ON CREATE\n",
    "    SET com.companyName = $companyName,\n",
    "        com.cusip = $cusip\n",
    "\"\"\"\n",
    "\n",
    "kg.query(cypher, params={\n",
    "    'cusip6':first_form13['cusip6'], \n",
    "    'companyName':first_form13['companyName'], \n",
    "    'cusip':first_form13['cusip'] \n",
    "})"
   ]
  },
  {
   "cell_type": "code",
   "execution_count": 10,
   "metadata": {},
   "outputs": [
    {
     "data": {
      "text/plain": [
       "[{'com': {'cusip': '64110D104',\n",
       "   'companyName': 'NETAPP INC',\n",
       "   'cusip6': '64110D'}}]"
      ]
     },
     "execution_count": 10,
     "metadata": {},
     "output_type": "execute_result"
    }
   ],
   "source": [
    "cypher = \"\"\"\n",
    "MATCH (com:Company)\n",
    "RETURN com LIMIT 1\n",
    "\"\"\"\n",
    "\n",
    "kg.query(cypher)"
   ]
  },
  {
   "cell_type": "markdown",
   "metadata": {},
   "source": [
    "Update the company name to match Form 10-K"
   ]
  },
  {
   "cell_type": "code",
   "execution_count": 11,
   "metadata": {},
   "outputs": [
    {
     "data": {
      "text/plain": [
       "[{'com.companyName': 'NETAPP INC', 'form.names': ['Netapp Inc', 'NETAPP INC']}]"
      ]
     },
     "execution_count": 11,
     "metadata": {},
     "output_type": "execute_result"
    }
   ],
   "source": [
    "cypher = \"\"\"\n",
    "  MATCH (com:Company), (form:Form)\n",
    "    WHERE com.cusip6 = form.cusip6\n",
    "  RETURN com.companyName, form.names\n",
    "\"\"\"\n",
    "\n",
    "kg.query(cypher)"
   ]
  },
  {
   "cell_type": "code",
   "execution_count": 12,
   "metadata": {},
   "outputs": [
    {
     "data": {
      "text/plain": [
       "[]"
      ]
     },
     "execution_count": 12,
     "metadata": {},
     "output_type": "execute_result"
    }
   ],
   "source": [
    "cypher = \"\"\"\n",
    "  MATCH (com:Company), (form:Form)\n",
    "    WHERE com.cusip6 = form.cusip6\n",
    "  SET com.names = form.names\n",
    "\"\"\"\n",
    "\n",
    "kg.query(cypher)"
   ]
  },
  {
   "cell_type": "code",
   "execution_count": 13,
   "metadata": {},
   "outputs": [
    {
     "data": {
      "text/plain": [
       "[]"
      ]
     },
     "execution_count": 13,
     "metadata": {},
     "output_type": "execute_result"
    }
   ],
   "source": [
    "# Create a FILED relationship between the company and the Form-10K node\n",
    "kg.query(\"\"\"\n",
    "  MATCH (com:Company), (form:Form)\n",
    "    WHERE com.cusip6 = form.cusip6\n",
    "  MERGE (com)-[:FILED]->(form)\n",
    "\"\"\")\n"
   ]
  },
  {
   "cell_type": "markdown",
   "metadata": {},
   "source": [
    "Create manager nodes\n",
    "- Create a manager node for companies that have filed a Form 13 to report their investment in NetApp\n",
    "- Start with the single manager who filed the first Form 13 in the list"
   ]
  },
  {
   "cell_type": "code",
   "execution_count": 14,
   "metadata": {},
   "outputs": [
    {
     "data": {
      "text/plain": [
       "[]"
      ]
     },
     "execution_count": 14,
     "metadata": {},
     "output_type": "execute_result"
    }
   ],
   "source": [
    "cypher = \"\"\"\n",
    "  MERGE (mgr:Manager {managerCik: $managerParam.managerCik})\n",
    "    ON CREATE\n",
    "        SET mgr.managerName = $managerParam.managerName,\n",
    "            mgr.managerAddress = $managerParam.managerAddress\n",
    "\"\"\"\n",
    "\n",
    "kg.query(cypher, params={'managerParam': first_form13})"
   ]
  },
  {
   "cell_type": "code",
   "execution_count": 15,
   "metadata": {},
   "outputs": [
    {
     "data": {
      "text/plain": [
       "[{'mgr': {'managerCik': '1000275',\n",
       "   'managerAddress': 'ROYAL BANK PLAZA, 200 BAY STREET, TORONTO, A6, M5J2J5',\n",
       "   'managerName': 'Royal Bank of Canada'}}]"
      ]
     },
     "execution_count": 15,
     "metadata": {},
     "output_type": "execute_result"
    }
   ],
   "source": [
    "kg.query(\"\"\"\n",
    "  MATCH (mgr:Manager)\n",
    "  RETURN mgr LIMIT 1\n",
    "\"\"\")"
   ]
  },
  {
   "cell_type": "code",
   "execution_count": 16,
   "metadata": {},
   "outputs": [
    {
     "data": {
      "text/plain": [
       "[]"
      ]
     },
     "execution_count": 16,
     "metadata": {},
     "output_type": "execute_result"
    }
   ],
   "source": [
    "# Create a uniquness constraint to avoid duplicate managers\n",
    "kg.query(\"\"\"\n",
    "CREATE CONSTRAINT unique_manager \n",
    "  IF NOT EXISTS\n",
    "  FOR (n:Manager) \n",
    "  REQUIRE n.managerCik IS UNIQUE\n",
    "\"\"\")"
   ]
  },
  {
   "cell_type": "code",
   "execution_count": 17,
   "metadata": {},
   "outputs": [
    {
     "data": {
      "text/plain": [
       "[]"
      ]
     },
     "execution_count": 17,
     "metadata": {},
     "output_type": "execute_result"
    }
   ],
   "source": [
    "# Create a fulltext index of manager names to enable text search\n",
    "kg.query(\"\"\"\n",
    "CREATE FULLTEXT INDEX fullTextManagerNames\n",
    "  IF NOT EXISTS\n",
    "  FOR (mgr:Manager) \n",
    "  ON EACH [mgr.managerName]\n",
    "\"\"\")\n"
   ]
  },
  {
   "cell_type": "code",
   "execution_count": 18,
   "metadata": {},
   "outputs": [
    {
     "data": {
      "text/plain": [
       "[{'node.managerName': 'Royal Bank of Canada', 'score': 0.2615291476249695}]"
      ]
     },
     "execution_count": 18,
     "metadata": {},
     "output_type": "execute_result"
    }
   ],
   "source": [
    "kg.query(\"\"\"\n",
    "  CALL db.index.fulltext.queryNodes(\"fullTextManagerNames\", \n",
    "      \"royal bank\") YIELD node, score\n",
    "  RETURN node.managerName, score\n",
    "\"\"\")"
   ]
  },
  {
   "cell_type": "code",
   "execution_count": 19,
   "metadata": {},
   "outputs": [],
   "source": [
    "# Create nodes for all companies that filed a Form 13\n",
    "cypher = \"\"\"\n",
    "  MERGE (mgr:Manager {managerCik: $managerParam.managerCik})\n",
    "    ON CREATE\n",
    "        SET mgr.managerName = $managerParam.managerName,\n",
    "            mgr.managerAddress = $managerParam.managerAddress\n",
    "\"\"\"\n",
    "# loop through all Form 13s\n",
    "for form13 in all_form13s:\n",
    "  kg.query(cypher, params={'managerParam': form13 })\n",
    "  "
   ]
  },
  {
   "cell_type": "code",
   "execution_count": 20,
   "metadata": {},
   "outputs": [
    {
     "data": {
      "text/plain": [
       "[{'count(mgr)': 561}]"
      ]
     },
     "execution_count": 20,
     "metadata": {},
     "output_type": "execute_result"
    }
   ],
   "source": [
    "kg.query(\"\"\"\n",
    "    MATCH (mgr:Manager) \n",
    "    RETURN count(mgr)\n",
    "\"\"\")"
   ]
  },
  {
   "cell_type": "markdown",
   "metadata": {},
   "source": [
    "Create relationships between managers and companies\n",
    "- Match companies with managers based on data in the Form 13\n",
    "- Create an OWNS_STOCK_IN relationship between the manager and the company\n",
    "- Start with the single manager who filed the first Form 13 in the list"
   ]
  },
  {
   "cell_type": "code",
   "execution_count": 21,
   "metadata": {},
   "outputs": [
    {
     "data": {
      "text/plain": [
       "[{'mgr.managerName': 'Royal Bank of Canada',\n",
       "  'com.companyName': 'NETAPP INC',\n",
       "  'investment': {'shares': '842850',\n",
       "   'source': 'https://sec.gov/Archives/edgar/data/1000275/0001140361-23-039575.txt',\n",
       "   'managerName': 'Royal Bank of Canada',\n",
       "   'managerAddress': 'ROYAL BANK PLAZA, 200 BAY STREET, TORONTO, A6, M5J2J5',\n",
       "   'value': '64395000000.0',\n",
       "   'cusip6': '64110D',\n",
       "   'cusip': '64110D104',\n",
       "   'reportCalendarOrQuarter': '2023-06-30',\n",
       "   'companyName': 'NETAPP INC',\n",
       "   'managerCik': '1000275'}}]"
      ]
     },
     "execution_count": 21,
     "metadata": {},
     "output_type": "execute_result"
    }
   ],
   "source": [
    "cypher = \"\"\"\n",
    "  MATCH (mgr:Manager {managerCik: $investmentParam.managerCik}), \n",
    "        (com:Company {cusip6: $investmentParam.cusip6})\n",
    "  RETURN mgr.managerName, com.companyName, $investmentParam as investment\n",
    "\"\"\"\n",
    "\n",
    "kg.query(cypher, params={ \n",
    "    'investmentParam': first_form13 \n",
    "})"
   ]
  },
  {
   "cell_type": "code",
   "execution_count": 22,
   "metadata": {},
   "outputs": [
    {
     "data": {
      "text/plain": [
       "[{'mgr.managerName': 'Royal Bank of Canada',\n",
       "  'owns.reportCalendarOrQuarter': '2023-06-30',\n",
       "  'com.companyName': 'NETAPP INC'}]"
      ]
     },
     "execution_count": 22,
     "metadata": {},
     "output_type": "execute_result"
    }
   ],
   "source": [
    "cypher = \"\"\"\n",
    "MATCH (mgr:Manager {managerCik: $ownsParam.managerCik}), (com:Company {cusip6: $ownsParam.cusip6})\n",
    "MERGE (mgr)-[owns:OWNS_STOCK_IN { reportCalendarOrQuarter: $ownsParam.reportCalendarOrQuarter }]->(com)\n",
    "ON CREATE\n",
    "    SET owns.value  = toFloat($ownsParam.value), \n",
    "        owns.shares = toInteger($ownsParam.shares)\n",
    "RETURN mgr.managerName, owns.reportCalendarOrQuarter, com.companyName\n",
    "\"\"\"\n",
    "\n",
    "kg.query(cypher, params={ 'ownsParam': first_form13 })"
   ]
  },
  {
   "cell_type": "code",
   "execution_count": 23,
   "metadata": {},
   "outputs": [
    {
     "data": {
      "text/plain": [
       "[{'owns': {'shares': 842850, 'value': 64395000000.0}}]"
      ]
     },
     "execution_count": 23,
     "metadata": {},
     "output_type": "execute_result"
    }
   ],
   "source": [
    "kg.query(\"\"\"\n",
    "MATCH (mgr:Manager {managerCik: $ownsParam.managerCik})-[owns:OWNS_STOCK_IN]-> (com:Company {cusip6: $ownsParam.cusip6})\n",
    "RETURN owns { .shares, .value }\n",
    "\"\"\", params={ 'ownsParam': first_form13 })"
   ]
  },
  {
   "cell_type": "code",
   "execution_count": 24,
   "metadata": {},
   "outputs": [],
   "source": [
    "# Create relationships between all of the managers who filed Form 13s and the company\n",
    "cypher = \"\"\"\n",
    "MATCH (mgr:Manager {managerCik: $ownsParam.managerCik}), \n",
    "        (com:Company {cusip6: $ownsParam.cusip6})\n",
    "MERGE (mgr)-[owns:OWNS_STOCK_IN { \n",
    "    reportCalendarOrQuarter: $ownsParam.reportCalendarOrQuarter \n",
    "    }]->(com)\n",
    "  ON CREATE\n",
    "    SET owns.value  = toFloat($ownsParam.value), \n",
    "        owns.shares = toInteger($ownsParam.shares)\n",
    "\"\"\"\n",
    "\n",
    "#loop through all Form 13s\n",
    "for form13 in all_form13s:\n",
    "  kg.query(cypher, params={'ownsParam': form13 })"
   ]
  },
  {
   "cell_type": "code",
   "execution_count": 25,
   "metadata": {},
   "outputs": [
    {
     "data": {
      "text/plain": [
       "[{'investments': 561}]"
      ]
     },
     "execution_count": 25,
     "metadata": {},
     "output_type": "execute_result"
    }
   ],
   "source": [
    "cypher = \"\"\"\n",
    "  MATCH (:Manager)-[owns:OWNS_STOCK_IN]->(:Company)\n",
    "  RETURN count(owns) as investments\n",
    "\"\"\"\n",
    "\n",
    "kg.query(cypher)"
   ]
  },
  {
   "cell_type": "code",
   "execution_count": 26,
   "metadata": {},
   "outputs": [
    {
     "name": "stdout",
     "output_type": "stream",
     "text": [
      "Node properties are the following: Chunk {f10kItem: STRING,\n",
      "chunkSeqId: INTEGER, text: STRING, cik: STRING, cusip6:\n",
      "STRING, names: LIST, formId: STRING, source: STRING,\n",
      "chunkId: STRING},Form {cik: STRING, cusip6: STRING, names:\n",
      "LIST, formId: STRING, source: STRING},Company {cusip6:\n",
      "STRING, names: LIST, companyName: STRING, cusip:\n",
      "STRING},Manager {managerName: STRING, managerCik: STRING,\n",
      "managerAddress: STRING} Relationship properties are the\n",
      "following: OWNS_STOCK_IN {shares: INTEGER,\n",
      "reportCalendarOrQuarter: STRING, value: FLOAT} The\n",
      "relationships are the following: (:Chunk)-[:PART_OF]->(:Form\n",
      "),(:Chunk)-[:NEXT]->(:Chunk),(:Company)-[:FILED]->(:Form),(:\n",
      "Manager)-[:OWNS_STOCK_IN]->(:Company)\n"
     ]
    }
   ],
   "source": [
    "kg.refresh_schema()\n",
    "print(textwrap.fill(kg.schema, 60))"
   ]
  },
  {
   "cell_type": "markdown",
   "metadata": {},
   "source": [
    "Determine the number of investors\n",
    "- Start by finding a form 10-K chunk, and save to use in subsequent queries"
   ]
  },
  {
   "cell_type": "code",
   "execution_count": 27,
   "metadata": {},
   "outputs": [
    {
     "name": "stdout",
     "output_type": "stream",
     "text": [
      "[{'chunkId': '0000950170-23-027948-item1-chunk0000'}]\n"
     ]
    }
   ],
   "source": [
    "cypher = \"\"\"\n",
    "    MATCH (chunk:Chunk)\n",
    "    RETURN chunk.chunkId as chunkId LIMIT 1\n",
    "    \"\"\"\n",
    "\n",
    "chunk_rows = kg.query(cypher)\n",
    "print(chunk_rows)"
   ]
  },
  {
   "cell_type": "code",
   "execution_count": 28,
   "metadata": {},
   "outputs": [
    {
     "name": "stdout",
     "output_type": "stream",
     "text": [
      "{'chunkId': '0000950170-23-027948-item1-chunk0000'}\n"
     ]
    }
   ],
   "source": [
    "chunk_first_row = chunk_rows[0]\n",
    "print(chunk_first_row)"
   ]
  },
  {
   "cell_type": "code",
   "execution_count": 29,
   "metadata": {},
   "outputs": [
    {
     "data": {
      "text/plain": [
       "'0000950170-23-027948-item1-chunk0000'"
      ]
     },
     "execution_count": 29,
     "metadata": {},
     "output_type": "execute_result"
    }
   ],
   "source": [
    "ref_chunk_id = chunk_first_row['chunkId']\n",
    "ref_chunk_id"
   ]
  },
  {
   "cell_type": "code",
   "execution_count": 30,
   "metadata": {},
   "outputs": [
    {
     "data": {
      "text/plain": [
       "[{'f.source': 'https://www.sec.gov/Archives/edgar/data/1002047/000095017023027948/0000950170-23-027948-index.htm'}]"
      ]
     },
     "execution_count": 30,
     "metadata": {},
     "output_type": "execute_result"
    }
   ],
   "source": [
    "# Build up path from Form 10-K chunk to companies and managers\n",
    "cypher = \"\"\"\n",
    "    MATCH (:Chunk {chunkId: $chunkIdParam})-[:PART_OF]->(f:Form)\n",
    "    RETURN f.source\n",
    "    \"\"\"\n",
    "\n",
    "kg.query(cypher, params={'chunkIdParam': ref_chunk_id})"
   ]
  },
  {
   "cell_type": "code",
   "execution_count": 31,
   "metadata": {},
   "outputs": [
    {
     "data": {
      "text/plain": [
       "[{'name': 'NETAPP INC'}]"
      ]
     },
     "execution_count": 31,
     "metadata": {},
     "output_type": "execute_result"
    }
   ],
   "source": [
    "cypher = \"\"\"\n",
    "MATCH (:Chunk {chunkId: $chunkIdParam})-[:PART_OF]->(f:Form),\n",
    "    (com:Company)-[:FILED]->(f)\n",
    "RETURN com.companyName as name\n",
    "\"\"\"\n",
    "\n",
    "kg.query(cypher, params={'chunkIdParam': ref_chunk_id})"
   ]
  },
  {
   "cell_type": "code",
   "execution_count": 32,
   "metadata": {},
   "outputs": [
    {
     "data": {
      "text/plain": [
       "[{'com.companyName': 'NETAPP INC', 'numberOfinvestors': 561}]"
      ]
     },
     "execution_count": 32,
     "metadata": {},
     "output_type": "execute_result"
    }
   ],
   "source": [
    "cypher = \"\"\"\n",
    "MATCH (:Chunk {chunkId: $chunkIdParam})-[:PART_OF]->(f:Form),\n",
    "        (com:Company)-[:FILED]->(f),\n",
    "        (mgr:Manager)-[:OWNS_STOCK_IN]->(com)\n",
    "RETURN com.companyName, \n",
    "        count(mgr.managerName) as numberOfinvestors \n",
    "LIMIT 1\n",
    "\"\"\"\n",
    "\n",
    "kg.query(cypher, params={\n",
    "    'chunkIdParam': ref_chunk_id\n",
    "})"
   ]
  },
  {
   "cell_type": "markdown",
   "metadata": {},
   "source": [
    "Use queries to build additional context for LLM\n",
    "Create sentences that indicate how much stock a manager has invested in a company"
   ]
  },
  {
   "cell_type": "code",
   "execution_count": 33,
   "metadata": {},
   "outputs": [
    {
     "data": {
      "text/plain": [
       "[{'text': 'CSS LLC/IL owns 12500 shares of NETAPP INC at a value of $955,000,000'},\n",
       " {'text': 'BOKF, NA owns 40774 shares of NETAPP INC at a value of $3,115,134,000'},\n",
       " {'text': 'BANK OF NOVA SCOTIA owns 18676 shares of NETAPP INC at a value of $1,426,847,000'},\n",
       " {'text': 'Jefferies Financial Group Inc. owns 23200 shares of NETAPP INC at a value of $1,772,480,000'},\n",
       " {'text': 'DEUTSCHE BANK AG\\\\ owns 929854 shares of NETAPP INC at a value of $71,040,845,000'},\n",
       " {'text': 'TORONTO DOMINION BANK owns 183163 shares of NETAPP INC at a value of $13,984,000'},\n",
       " {'text': 'STATE BOARD OF ADMINISTRATION OF FLORIDA RETIREMENT SYSTEM owns 265756 shares of NETAPP INC at a value of $20,303,759,000'},\n",
       " {'text': 'NISA INVESTMENT ADVISORS, LLC owns 67848 shares of NETAPP INC at a value of $5,183,587,000'},\n",
       " {'text': 'ONTARIO TEACHERS PENSION PLAN BOARD owns 7290 shares of NETAPP INC at a value of $556,956,000'},\n",
       " {'text': 'STATE STREET CORP owns 9321206 shares of NETAPP INC at a value of $712,140,138,000'}]"
      ]
     },
     "execution_count": 33,
     "metadata": {},
     "output_type": "execute_result"
    }
   ],
   "source": [
    "cypher = \"\"\"\n",
    "    MATCH (:Chunk {chunkId: $chunkIdParam})-[:PART_OF]->(f:Form),\n",
    "        (com:Company)-[:FILED]->(f),\n",
    "        (mgr:Manager)-[owns:OWNS_STOCK_IN]->(com)\n",
    "    RETURN mgr.managerName + \" owns \" + owns.shares + \n",
    "        \" shares of \" + com.companyName + \n",
    "        \" at a value of $\" + \n",
    "        apoc.number.format(toInteger(owns.value)) AS text\n",
    "    LIMIT 10\n",
    "    \"\"\"\n",
    "kg.query(cypher, params={\n",
    "    'chunkIdParam': ref_chunk_id\n",
    "})"
   ]
  },
  {
   "cell_type": "code",
   "execution_count": 34,
   "metadata": {},
   "outputs": [
    {
     "name": "stdout",
     "output_type": "stream",
     "text": [
      "CSS LLC/IL owns 12500 shares of NETAPP INC at a value of\n",
      "$955,000,000\n"
     ]
    }
   ],
   "source": [
    "results = kg.query(cypher, params={\n",
    "    'chunkIdParam': ref_chunk_id\n",
    "})\n",
    "print(textwrap.fill(results[0]['text'], 60))"
   ]
  },
  {
   "cell_type": "markdown",
   "metadata": {},
   "source": [
    "Create a plain Question Answer chain\n",
    "- Similarity search only, no augmentation by Cypher Query"
   ]
  },
  {
   "cell_type": "code",
   "execution_count": 35,
   "metadata": {},
   "outputs": [],
   "source": [
    "vector_store = Neo4jVector.from_existing_graph(\n",
    "    embedding=OpenAIEmbeddings(),\n",
    "    url=NEO4J_URI,\n",
    "    username=NEO4J_USERNAME,\n",
    "    password=NEO4J_PASSWORD,\n",
    "    index_name=VECTOR_INDEX_NAME,\n",
    "    node_label=VECTOR_NODE_LABEL,\n",
    "    text_node_properties=[VECTOR_SOURCE_PROPERTY],\n",
    "    embedding_node_property=VECTOR_EMBEDDING_PROPERTY,\n",
    ")\n",
    "# Create a retriever from the vector store\n",
    "retriever = vector_store.as_retriever()\n",
    "\n",
    "# Create a chatbot Question & Answer chain from the retriever\n",
    "plain_chain = RetrievalQAWithSourcesChain.from_chain_type(\n",
    "    ChatOpenAI(temperature=0), \n",
    "    chain_type=\"stuff\", \n",
    "    retriever=retriever\n",
    ")"
   ]
  },
  {
   "cell_type": "code",
   "execution_count": 43,
   "metadata": {},
   "outputs": [],
   "source": [
    "investment_retrieval_query = \"\"\"\n",
    "MATCH (node)-[:PART_OF]->(f:Form), // what is node here ?\n",
    "    (f)<-[:FILED]-(com:Company),\n",
    "    (com)<-[owns:OWNS_STOCK_IN]-(mgr:Manager)\n",
    "WITH node, score, mgr, owns, com \n",
    "    ORDER BY owns.shares DESC LIMIT 10\n",
    "WITH collect (\n",
    "    mgr.managerName + \n",
    "    \" owns \" + owns.shares + \n",
    "    \" shares in \" + com.companyName + \n",
    "    \" at a value of $\" + \n",
    "    apoc.number.format(toInteger(owns.value)) + \".\" \n",
    ") AS investment_statements, node, score\n",
    "RETURN apoc.text.join(investment_statements, \"\\n\") + \n",
    "    \"\\n\" + node.text AS text,\n",
    "    score,\n",
    "    { \n",
    "      source: node.source\n",
    "    } as metadata\n",
    "\"\"\""
   ]
  },
  {
   "cell_type": "code",
   "execution_count": 44,
   "metadata": {},
   "outputs": [],
   "source": [
    "vector_store_with_investment = Neo4jVector.from_existing_index(\n",
    "    OpenAIEmbeddings(),\n",
    "    url=NEO4J_URI,\n",
    "    username=NEO4J_USERNAME,\n",
    "    password=NEO4J_PASSWORD,\n",
    "    database=\"neo4j\",\n",
    "    index_name=VECTOR_INDEX_NAME,\n",
    "    text_node_property=VECTOR_SOURCE_PROPERTY,\n",
    "    retrieval_query=investment_retrieval_query,\n",
    ")\n",
    "\n",
    "# Create a retriever from the vector store\n",
    "retriever_with_investments = vector_store_with_investment.as_retriever()\n",
    "\n",
    "# Create a chatbot Question & Answer chain from the retriever\n",
    "investment_chain = RetrievalQAWithSourcesChain.from_chain_type(\n",
    "    ChatOpenAI(temperature=0), \n",
    "    chain_type=\"stuff\", \n",
    "    retriever=retriever_with_investments\n",
    ")"
   ]
  },
  {
   "cell_type": "markdown",
   "metadata": {},
   "source": [
    "Comparing the outputs"
   ]
  },
  {
   "cell_type": "code",
   "execution_count": 45,
   "metadata": {},
   "outputs": [
    {
     "data": {
      "text/plain": [
       "{'answer': 'NetApp is a global cloud-led, data-centric software company that provides customers with the freedom to manage applications and data across hybrid multicloud environments. \\n',\n",
       " 'sources': 'https://www.sec.gov/Archives/edgar/data/1002047/000095017023027948/0000950170-23-027948-index.htm'}"
      ]
     },
     "execution_count": 45,
     "metadata": {},
     "output_type": "execute_result"
    }
   ],
   "source": [
    "question = \"In a single sentence, tell me about Netapp.\"\n",
    "plain_chain(\n",
    "    {\"question\": question},\n",
    "    return_only_outputs=True,\n",
    ")"
   ]
  },
  {
   "cell_type": "code",
   "execution_count": 46,
   "metadata": {},
   "outputs": [
    {
     "data": {
      "text/plain": [
       "{'answer': 'Netapp investors include VANGUARD GROUP INC, BlackRock Inc., and PRIMECAP MANAGEMENT CO/CA/.\\n',\n",
       " 'sources': 'https://www.sec.gov/Archives/edgar/data/1002047/000095017023027948/0000950170-23-027948-index.htm'}"
      ]
     },
     "execution_count": 46,
     "metadata": {},
     "output_type": "execute_result"
    }
   ],
   "source": [
    "question = \"In a single sentence, tell me about Netapp investors.\"\n",
    "investment_chain(\n",
    "    {\"question\": question},\n",
    "    return_only_outputs=True,\n",
    ")"
   ]
  },
  {
   "cell_type": "code",
   "execution_count": null,
   "metadata": {},
   "outputs": [],
   "source": []
  }
 ],
 "metadata": {
  "kernelspec": {
   "display_name": "venv",
   "language": "python",
   "name": "python3"
  },
  "language_info": {
   "codemirror_mode": {
    "name": "ipython",
    "version": 3
   },
   "file_extension": ".py",
   "mimetype": "text/x-python",
   "name": "python",
   "nbconvert_exporter": "python",
   "pygments_lexer": "ipython3",
   "version": "3.9.13"
  }
 },
 "nbformat": 4,
 "nbformat_minor": 2
}
